{
 "cells": [
  {
   "cell_type": "markdown",
   "id": "ce6c41de",
   "metadata": {},
   "source": [
    "Importing the required packages"
   ]
  },
  {
   "cell_type": "code",
   "execution_count": 1,
   "id": "203cc34d",
   "metadata": {},
   "outputs": [],
   "source": [
    "import pandas_datareader.data as reader\n",
    "import datetime as dt\n",
    "import numpy as np\n",
    "import scipy.stats"
   ]
  },
  {
   "cell_type": "markdown",
   "id": "47233ebf",
   "metadata": {},
   "source": [
    "User Input"
   ]
  },
  {
   "cell_type": "code",
   "execution_count": 2,
   "id": "c2dd5d09",
   "metadata": {},
   "outputs": [
    {
     "name": "stdout",
     "output_type": "stream",
     "text": [
      "Input the number of positions\n",
      "3\n",
      "Stock Ticker\n",
      "aapl\n",
      "No of shares\n",
      "12\n",
      "Stock Ticker\n",
      "msft\n",
      "No of shares\n",
      "21\n",
      "Stock Ticker\n",
      "tsla\n",
      "No of shares\n",
      "33\n"
     ]
    }
   ],
   "source": [
    "print('Input the number of positions')\n",
    "n=int(input())\n",
    "stocktickers=[]\n",
    "shares=[]\n",
    "for i in range(0,n):\n",
    "    print('Stock Ticker')\n",
    "    s=input()\n",
    "    s=s.upper()\n",
    "    print('No of shares')\n",
    "    a=int(input())\n",
    "    stocktickers.append(s)\n",
    "    shares.append(a)\n",
    "    "
   ]
  },
  {
   "cell_type": "markdown",
   "id": "46900b89",
   "metadata": {},
   "source": [
    "VAR Calculation"
   ]
  },
  {
   "cell_type": "code",
   "execution_count": 3,
   "id": "c8497ee6",
   "metadata": {},
   "outputs": [],
   "source": [
    "end=dt.datetime.now()\n",
    "start=dt.datetime(end.year-5,end.month,end.day)\n",
    "df=reader.get_data_yahoo(stocktickers,start,end)['Adj Close']\n",
    "returns=np.log(1+df.pct_change())\n",
    "def VaR(Position,sigma,Quantile):\n",
    "    return Position*sigma*scipy.stats.norm.ppf(Quantile)\n",
    "d=df.iloc[-1]\n",
    "weights=[]\n",
    "for i in range(0,len(shares)):\n",
    "    weights.append(d[i]*shares[i])\n",
    "w=weights/sum(weights)\n",
    "position=[]\n",
    "for i in range(0,len(shares)):\n",
    "    position.append(w[i]*sum(weights))\n",
    "Vararray1=[]\n",
    "for i in range(len(position)):\n",
    "    Vararray1.append(VaR(position[i],returns.std()[i],0.95))\n",
    "vector1=np.array(Vararray1)\n",
    "value1=(np.dot(np.dot(vector1,returns.corr()),vector1))**(1/2)\n",
    "Vararray2=[]\n",
    "for i in range(len(position)):\n",
    "    Vararray2.append(VaR(position[i],returns.std()[i],0.99))\n",
    "vector=np.array(Vararray2)\n",
    "value2=(np.dot(np.dot(vector,returns.corr()),vector))**(1/2)\n"
   ]
  },
  {
   "cell_type": "markdown",
   "id": "1565d227",
   "metadata": {},
   "source": [
    "Output"
   ]
  },
  {
   "cell_type": "code",
   "execution_count": 4,
   "id": "4171f481",
   "metadata": {},
   "outputs": [
    {
     "name": "stdout",
     "output_type": "stream",
     "text": [
      "\u001b[1mPortfolio  \u001b[0m\n",
      "AAPL 12\n",
      "MSFT 21\n",
      "TSLA 33\n",
      "Portfolio Value in USD : 13520.069824\n",
      "1 day 95 percent VaR is 584.350210 (4.322095 percent of the portfolio)\n",
      "1 day 99 percent VaR is 826.457653 (6.112821 percent of the portfolio)\n"
     ]
    }
   ],
   "source": [
    "print('\\033[1mPortfolio  \\033[0m')\n",
    "for i in range(0,len(shares)):\n",
    "    e=stocktickers[i]\n",
    "    f=shares[i]\n",
    "    print('%s %d' %(e,f))\n",
    "print('Portfolio Value in USD : %f' %sum(weights))\n",
    "print('1 day 95 percent VaR is %f (%f percent of the portfolio)' %(value1,100*value1/sum(weights)))\n",
    "print('1 day 99 percent VaR is %f (%f percent of the portfolio)' %(value2,100*value2/sum(weights)))\n"
   ]
  },
  {
   "cell_type": "code",
   "execution_count": null,
   "id": "008fde34",
   "metadata": {},
   "outputs": [],
   "source": []
  }
 ],
 "metadata": {
  "kernelspec": {
   "display_name": "Python 3",
   "language": "python",
   "name": "python3"
  },
  "language_info": {
   "codemirror_mode": {
    "name": "ipython",
    "version": 3
   },
   "file_extension": ".py",
   "mimetype": "text/x-python",
   "name": "python",
   "nbconvert_exporter": "python",
   "pygments_lexer": "ipython3",
   "version": "3.8.8"
  }
 },
 "nbformat": 4,
 "nbformat_minor": 5
}
